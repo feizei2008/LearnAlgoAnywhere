{
 "cells": [
  {
   "cell_type": "markdown",
   "id": "4b334f49-c117-440b-85af-24a13bcd8f13",
   "metadata": {},
   "source": [
    "# 广度优先搜索"
   ]
  },
  {
   "cell_type": "code",
   "execution_count": 2,
   "id": "3c9535e7-a6cd-43e7-bfed-ed33f5c072bf",
   "metadata": {},
   "outputs": [
    {
     "name": "stdout",
     "output_type": "stream",
     "text": [
      "hello algo\n"
     ]
    }
   ],
   "source": [
    "print(\"hello algo\")"
   ]
  },
  {
   "cell_type": "code",
   "execution_count": null,
   "id": "32ab546e-8f23-4ab0-a659-34c1c4d5929f",
   "metadata": {},
   "outputs": [],
   "source": []
  }
 ],
 "metadata": {
  "kernelspec": {
   "display_name": "Python 3 (ipykernel)",
   "language": "python",
   "name": "python3"
  },
  "language_info": {
   "codemirror_mode": {
    "name": "ipython",
    "version": 3
   },
   "file_extension": ".py",
   "mimetype": "text/x-python",
   "name": "python",
   "nbconvert_exporter": "python",
   "pygments_lexer": "ipython3",
   "version": "3.11.0"
  }
 },
 "nbformat": 4,
 "nbformat_minor": 5
}
