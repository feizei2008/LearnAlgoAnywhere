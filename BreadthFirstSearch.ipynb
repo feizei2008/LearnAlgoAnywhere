{
 "cells": [
  {
   "cell_type": "markdown",
   "id": "4b334f49-c117-440b-85af-24a13bcd8f13",
   "metadata": {},
   "source": [
    "# 广度优先搜索(BFS)\n",
    "## 巴尔加瓦《算法图解》\n",
    "* https://weread.qq.com/web/reader/fbf32b80715c0184fbff41fkd6432e00228d645920e3401\n",
    "## 适用场景\n",
    "* 广度优先搜索让你能够找出两样东西之间的最短距离，不过最短距离的含义有很多！使用广度优先搜索可以：\n",
    "    + 编写国际跳棋AI，计算最少走多少步就可获胜；\n",
    "    + 编写拼写检查器，计算最少编辑多少个地方就可将错拼的单词改成正确的单词，如将READED改为READER需要编辑一个地方；\n",
    "    + 根据你的人际关系网络找到关系最近的医生。"
   ]
  },
  {
   "cell_type": "markdown",
   "id": "a0b6a865-8092-4afa-bdef-c971d69517fe",
   "metadata": {},
   "source": [
    "## 队列\n",
    "* 队列是一种先进先出（First In First Out, FIFO）的数据结构\n",
    "* 栈是一种后进先出（Last In First Out, LIFO）的数据结构。\n",
    "* 队列譬如：公车站排队乘车"
   ]
  },
  {
   "cell_type": "markdown",
   "id": "a24ceb4f-218f-430c-a31c-dc3cd803e589",
   "metadata": {},
   "source": [
    "## 如何表示有向图\n",
    "* 散列表\n",
    "    - 如：key=A，value为[B, C]的字典"
   ]
  },
  {
   "cell_type": "code",
   "execution_count": 2,
   "id": "3c9535e7-a6cd-43e7-bfed-ed33f5c072bf",
   "metadata": {},
   "outputs": [],
   "source": [
    "from collections import deque"
   ]
  },
  {
   "cell_type": "code",
   "execution_count": 3,
   "id": "32ab546e-8f23-4ab0-a659-34c1c4d5929f",
   "metadata": {},
   "outputs": [],
   "source": [
    "# 用散列表表示有向图\n",
    "\n",
    "graph={}\n",
    "graph[\"you\"]=[\"alice\", \"bob\", \"claire\"]\n",
    "graph[\"bob\"]=[\"anuj\", \"peggy\"]\n",
    "graph[\"alice\"]=[\"peggy\"]\n",
    "graph[\"claire\"]=[\"thom\", \"jonny\"]\n",
    "graph[\"anuj\"]=[]\n",
    "graph[\"peggy\"]=[]\n",
    "graph[\"thom\"]=[]\n",
    "graph[\"jonny\"]=[]"
   ]
  },
  {
   "cell_type": "code",
   "execution_count": 4,
   "id": "27089f5c-38da-49a0-b5bb-b1342e13a0ef",
   "metadata": {},
   "outputs": [],
   "source": [
    "def person_is_seller(p: str):\n",
    "    if p.startswith(\"t\"):\n",
    "        return True\n",
    "    else:\n",
    "        return False"
   ]
  },
  {
   "cell_type": "code",
   "execution_count": 5,
   "id": "989f59d9-b05c-4ec1-903d-a3c2da239030",
   "metadata": {},
   "outputs": [],
   "source": [
    "def search(name):\n",
    "    search_queue = deque()\n",
    "    search_queue += graph[name]\n",
    "    searched = []  # 搜索过的标记下来避免重复搜索\n",
    "    while search_queue:  # 只要双端队列不为空\n",
    "        person = search_queue.popleft()  # 就取出其中的第一个人\n",
    "        if person not in searched:\n",
    "            if person_is_seller(person):\n",
    "                print(person + \" is a mongo seller!\")\n",
    "                return True\n",
    "            else:\n",
    "                # 如此人非seller，将其朋友全部加入到搜索队列\n",
    "                search_queue += graph[person]\n",
    "                searched.append(person)\n",
    "    return False"
   ]
  },
  {
   "cell_type": "code",
   "execution_count": 6,
   "id": "36f56294-730f-44e4-b19e-c910cf8192fb",
   "metadata": {},
   "outputs": [
    {
     "name": "stdout",
     "output_type": "stream",
     "text": [
      "thom is a mongo seller!\n"
     ]
    },
    {
     "data": {
      "text/plain": [
       "True"
      ]
     },
     "execution_count": 6,
     "metadata": {},
     "output_type": "execute_result"
    }
   ],
   "source": [
    "search('you')"
   ]
  },
  {
   "cell_type": "code",
   "execution_count": null,
   "id": "49de24f7-9099-4864-b92c-8bc5777ead79",
   "metadata": {},
   "outputs": [],
   "source": []
  }
 ],
 "metadata": {
  "kernelspec": {
   "display_name": "Python 3 (ipykernel)",
   "language": "python",
   "name": "python3"
  },
  "language_info": {
   "codemirror_mode": {
    "name": "ipython",
    "version": 3
   },
   "file_extension": ".py",
   "mimetype": "text/x-python",
   "name": "python",
   "nbconvert_exporter": "python",
   "pygments_lexer": "ipython3",
   "version": "3.11.0"
  }
 },
 "nbformat": 4,
 "nbformat_minor": 5
}
