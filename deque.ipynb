{
 "cells": [
  {
   "cell_type": "markdown",
   "id": "178aa3ab-4441-4541-a32e-01d219cf77eb",
   "metadata": {},
   "source": [
    "# 双端队列deque"
   ]
  },
  {
   "cell_type": "code",
   "execution_count": 1,
   "id": "7f8726b2-1ea6-4753-bf37-c334ca2c35d3",
   "metadata": {},
   "outputs": [],
   "source": [
    "from collections import deque"
   ]
  },
  {
   "cell_type": "code",
   "execution_count": 3,
   "id": "4ba631b2-6902-434a-b065-f7aae39d720e",
   "metadata": {},
   "outputs": [
    {
     "data": {
      "text/plain": [
       "deque(['a', 'b', 'c'])"
      ]
     },
     "execution_count": 3,
     "metadata": {},
     "output_type": "execute_result"
    }
   ],
   "source": [
    "dq = deque()\n",
    "dq += \"a\"\n",
    "dq += \"b\"\n",
    "dq += \"c\"\n",
    "dq"
   ]
  },
  {
   "cell_type": "code",
   "execution_count": 4,
   "id": "b1ce31d5-c417-4608-9620-fc0c59a92859",
   "metadata": {},
   "outputs": [
    {
     "data": {
      "text/plain": [
       "'a'"
      ]
     },
     "execution_count": 4,
     "metadata": {},
     "output_type": "execute_result"
    }
   ],
   "source": [
    "dq.popleft()"
   ]
  },
  {
   "cell_type": "code",
   "execution_count": 5,
   "id": "1ca9e815-f050-456d-81d2-40db6882e2ea",
   "metadata": {},
   "outputs": [
    {
     "data": {
      "text/plain": [
       "deque(['b', 'c'])"
      ]
     },
     "execution_count": 5,
     "metadata": {},
     "output_type": "execute_result"
    }
   ],
   "source": [
    "dq"
   ]
  },
  {
   "cell_type": "code",
   "execution_count": null,
   "id": "535bd27a-5cd2-4071-940f-6e0d99076b77",
   "metadata": {},
   "outputs": [],
   "source": []
  }
 ],
 "metadata": {
  "kernelspec": {
   "display_name": "Python 3 (ipykernel)",
   "language": "python",
   "name": "python3"
  },
  "language_info": {
   "codemirror_mode": {
    "name": "ipython",
    "version": 3
   },
   "file_extension": ".py",
   "mimetype": "text/x-python",
   "name": "python",
   "nbconvert_exporter": "python",
   "pygments_lexer": "ipython3",
   "version": "3.11.0"
  }
 },
 "nbformat": 4,
 "nbformat_minor": 5
}
