{
 "cells": [
  {
   "cell_type": "markdown",
   "id": "3f83cecc-32ca-4dca-8a09-4cdb36f1a47b",
   "metadata": {},
   "source": [
    "# 狄克斯特拉算法\n",
    "## 狄克斯特拉算法和广度优先算法的区别\n",
    "* 广度优先算法\n",
    "    + 图：由node（节点）和边（edge）组成\n",
    "    + BFS从距离搜索起始点最近的几个node开始搜索。如果不符合条件，则删除该node并append其相邻node在队列末尾；如果符合条件，则停止退出。\n",
    "    + 这样可以保证搜索到的结果是花费最少步数实现的\n",
    "        - 假设图是N个同心圆，先搜索一圈层，如果没找到则在一圈层连接的最近圈层，二圈层里找……直至所有圈层搜索完毕\n",
    "* 狄克斯特拉算法\n",
    "    + 与BFS最大的区别是，BFS每一步是等权重的，而狄克斯特拉每一步的权重不同\n",
    "    + 狄克斯特拉要寻找的是到达目标花费总权重最小的路线\n",
    "## 加权图（weighted graph）, 有向无环图（directed acyclic graph, DAG）\n",
    "* BFS适用于无加权图，即搜索的每一步等权；狄克斯特拉适用于加权图，即每一步权重不相同\n",
    "* 狄克斯特拉算法只适用于有向无环图（directed acyclic graph, DAG）\n",
    "## 狄克斯特拉算法的四个步骤\n",
    "### 说明\n",
    "* 以下四步法中的说明：\n",
    "    + 字母表示node节点名称，数字表示距离初始点的步数\n",
    "        - 如：A1表示距离起始点只有一步的A节点，C2表示距离起始点有2步的C节点\n",
    "    + weight()表示两点之间的边（edge）的权重\n",
    "        - 如：weight（A1）=2，表示起始点距离A1权重为2；weight（B1, D2）=5，表示两点之间权重为5\n",
    "### 第一步\n",
    "* 找出“最便宜”的节点，即可在最短时间内到达的节点。\n",
    "    + weight(A1)=2, weight(B1)=4\n",
    "        - 距离起始点最近的为A1点，权重为2\n",
    "### 第二步\n",
    "* 更新该节点的邻居的开销，其含义将稍后介绍。\n",
    "    + weight(A1,C2)=4, weight(A1,D2)=5\n",
    "        - 更新从父节点A1到二圈层两个点C2, D2的距离加总，分别为\n",
    "            * 到C2权重合计：2+4=6\n",
    "            * 到D2权重合计：2+7=7\n",
    "        - 得到总权重，并记录其最优父节点\n",
    "            * 目前已知的C2、D2的最优父节点均为A1\n",
    "### 第三步\n",
    "* 重复这个过程，直到对图中的每个节点都这样做了。\n",
    "    + 对一圈层的B1节点重复上述第一步、第二部过程\n",
    "        - 更新得到从父节点B1到二圈层两个点C2, D2的距离加总，分别为\n",
    "            * 到C2权重合计：4+1=5\n",
    "            * 到D2权重合计：4+5=9\n",
    "        - 得到总权重，并记录其最优父节点\n",
    "            * 到C2的最优父节点均为B1，总权重为5\n",
    "            * 到D2的最优父节点均为A1，总权重为7\n",
    "### 第四步\n",
    "* 计算最终路径。\n",
    "## 不能将狄克斯特拉算法用于包含负权边的图。\n",
    "* 在包含负权边的图中，要找出最短路径，可使用另一种算法——贝尔曼-福德算法（Bellman-Ford algorithm）"
   ]
  },
  {
   "cell_type": "code",
   "execution_count": 1,
   "id": "8593c3b2-d7d5-45ce-bdea-78a6adfd8ae4",
   "metadata": {},
   "outputs": [
    {
     "name": "stdout",
     "output_type": "stream",
     "text": [
      "dict_keys(['a', 'b'])\n"
     ]
    }
   ],
   "source": [
    "# 相连两点之间的距离\n",
    "graph = {}\n",
    "graph['start'] = {}\n",
    "graph['start']['a'] = 6  # 起点到a距离为6\n",
    "graph['start']['b'] = 2\n",
    "print(graph['start'].keys())"
   ]
  },
  {
   "cell_type": "code",
   "execution_count": 8,
   "id": "583dece6-d006-4c94-bc5b-276d034219c4",
   "metadata": {},
   "outputs": [
    {
     "data": {
      "text/plain": [
       "{'start': {'a': 6, 'b': 2},\n",
       " 'a': {'fin': 1},\n",
       " 'b': {'a': 3, 'fin': 5},\n",
       " 'fin': {}}"
      ]
     },
     "execution_count": 8,
     "metadata": {},
     "output_type": "execute_result"
    }
   ],
   "source": [
    "graph['a'] = {}\n",
    "graph['a']['fin'] = 1\n",
    "\n",
    "graph['b'] = {}\n",
    "graph['b']['a'] = 3\n",
    "graph['b']['fin'] = 5\n",
    "\n",
    "graph['fin'] = {}\n",
    "\n",
    "graph"
   ]
  },
  {
   "cell_type": "code",
   "execution_count": 9,
   "id": "03916fef-dda8-40f5-b442-d95b3600878e",
   "metadata": {},
   "outputs": [
    {
     "data": {
      "text/plain": [
       "{'a': 6, 'b': 2, 'fin': inf}"
      ]
     },
     "execution_count": 9,
     "metadata": {},
     "output_type": "execute_result"
    }
   ],
   "source": [
    "# 存储每个节点的开销\n",
    "costs = {}\n",
    "costs['a'] = 6\n",
    "costs['b'] = 2\n",
    "costs['fin'] = float(\"inf\")\n",
    "costs"
   ]
  },
  {
   "cell_type": "code",
   "execution_count": 10,
   "id": "fdae9b31-2947-4928-8ba0-ae5612136893",
   "metadata": {},
   "outputs": [
    {
     "data": {
      "text/plain": [
       "{'a': 'start', 'b': 'start', 'fin': None}"
      ]
     },
     "execution_count": 10,
     "metadata": {},
     "output_type": "execute_result"
    }
   ],
   "source": [
    "# 每个节点的父节点\n",
    "parents = {}\n",
    "parents['a'] = 'start'\n",
    "parents['b'] = 'start'\n",
    "parents['fin'] = None\n",
    "processed = []\n",
    "parents"
   ]
  },
  {
   "cell_type": "code",
   "execution_count": 5,
   "id": "0ed58f52-b5df-43fc-b9b3-22c6463d6efa",
   "metadata": {},
   "outputs": [],
   "source": [
    "def find_lowest_cost_node(costs):\n",
    "    lowest_cost = float(\"inf\")  # 前往终点的最低开销先默认为无限大\n",
    "    lowest_cost_node = None\n",
    "    processed = []\n",
    "    for node in costs:  # 遍历所有节点\n",
    "        cost = costs[node]\n",
    "        # 如果当前节点的开销更低且未处理过\n",
    "        if cost < lowest_cost and node not in processed:\n",
    "            lowest_cost = cost  # 就将其视为开销最低的点\n",
    "            low_cost_node = node\n",
    "    return lowest_cost_node"
   ]
  },
  {
   "cell_type": "code",
   "execution_count": 6,
   "id": "8038bff0-b1ab-472f-a3c3-630ab05ef4ae",
   "metadata": {},
   "outputs": [
    {
     "name": "stdout",
     "output_type": "stream",
     "text": [
      "None\n"
     ]
    }
   ],
   "source": [
    "# 在未处理的节点中找出开销最小的节点\n",
    "node=find_lowest_cost_node(costs)\n",
    "print(node)"
   ]
  },
  {
   "cell_type": "code",
   "execution_count": 7,
   "id": "457ad875-b87e-4cb4-ae35-73d8c29d0f87",
   "metadata": {},
   "outputs": [
    {
     "name": "stdout",
     "output_type": "stream",
     "text": [
      "{'a': 6, 'b': 2, 'fin': inf}\n"
     ]
    }
   ],
   "source": [
    "while node is not None:  # 这个while循环在所有节点都被处理过后结束\n",
    "    cost = costs[node]\n",
    "    neighbors = graph[node]\n",
    "    for n in neighbors.keys():  # 遍历当前节点的所有邻居\n",
    "        new_cost = neighbors[n] + cost\n",
    "        if costs[n] > new_cost:  # 如果经当前节点前往前往该邻居更近\n",
    "            costs[n] = new_cost  # 就更新该邻居的开销\n",
    "            parents[n] = node  # 同时将该邻居的父节点设置为当前节点\n",
    "    processed.append(node)  # 将当前节点标记为处理过\n",
    "    node = find_lowest_cost_node(costs)  # 找出接下来要处理的节点，并循环\n",
    "print(costs)"
   ]
  },
  {
   "cell_type": "code",
   "execution_count": null,
   "id": "80d1c28c-0da3-4e4d-a43d-84dba53d54d2",
   "metadata": {},
   "outputs": [],
   "source": []
  }
 ],
 "metadata": {
  "kernelspec": {
   "display_name": "Python 3 (ipykernel)",
   "language": "python",
   "name": "python3"
  },
  "language_info": {
   "codemirror_mode": {
    "name": "ipython",
    "version": 3
   },
   "file_extension": ".py",
   "mimetype": "text/x-python",
   "name": "python",
   "nbconvert_exporter": "python",
   "pygments_lexer": "ipython3",
   "version": "3.11.0"
  }
 },
 "nbformat": 4,
 "nbformat_minor": 5
}
